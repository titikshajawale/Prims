{
 "cells": [
  {
   "cell_type": "code",
   "execution_count": 1,
   "id": "0df20e0e",
   "metadata": {},
   "outputs": [
    {
     "name": "stdout",
     "output_type": "stream",
     "text": [
      "Enter the number of vertices: 5\n",
      "Enter the adjacency matrix:\n",
      "0 2 0 6 0\n",
      "2 0 3 8 5\n",
      "0 3 0 0 7\n",
      "6 8 0 0 9\n",
      "0 5 7 9 0\n",
      "Edge \tWeight\n",
      "0 - 1 \t 2\n",
      "1 - 2 \t 3\n",
      "0 - 3 \t 6\n",
      "1 - 4 \t 5\n"
     ]
    }
   ],
   "source": [
    "import sys\n",
    "\n",
    "class Graph:\n",
    "    def __init__(self, vertices):\n",
    "        self.V = vertices\n",
    "        self.graph = [[0 for _ in range(vertices)] for _ in range(vertices)]\n",
    "\n",
    "    def min_key(self, key, mst_set):\n",
    "        min_val = sys.maxsize\n",
    "        min_index = -1\n",
    "        for v in range(self.V):\n",
    "            if key[v] < min_val and not mst_set[v]:\n",
    "                min_val = key[v]\n",
    "                min_index = v\n",
    "        return min_index\n",
    "\n",
    "    def prim_mst(self):\n",
    "        parent = [-1] * self.V\n",
    "        key = [sys.maxsize] * self.V\n",
    "        key[0] = 0\n",
    "        mst_set = [False] * self.V\n",
    "\n",
    "        for _ in range(self.V):\n",
    "            u = self.min_key(key, mst_set)\n",
    "            mst_set[u] = True\n",
    "            for v in range(self.V):\n",
    "                if self.graph[u][v] > 0 and not mst_set[v] and self.graph[u][v] < key[v]:\n",
    "                    key[v] = self.graph[u][v]\n",
    "                    parent[v] = u\n",
    "\n",
    "        self.print_mst(parent)\n",
    "\n",
    "    def print_mst(self, parent):\n",
    "        print(\"Edge \\tWeight\")\n",
    "        for i in range(1, self.V):\n",
    "            print(parent[i], \"-\", i, \"\\t\", self.graph[i][parent[i]])\n",
    "\n",
    "\n",
    "# Taking input from the user\n",
    "def take_input():\n",
    "    vertices = int(input(\"Enter the number of vertices: \"))\n",
    "    g = Graph(vertices)\n",
    "    print(\"Enter the adjacency matrix:\")\n",
    "    for i in range(vertices):\n",
    "        g.graph[i] = list(map(int, input().split()))\n",
    "    return g\n",
    "\n",
    "\n",
    "# Example usage:\n",
    "if __name__ == \"__main__\":\n",
    "    g = take_input()\n",
    "    g.prim_mst()\n"
   ]
  },
  {
   "cell_type": "code",
   "execution_count": null,
   "id": "a3eecf14",
   "metadata": {},
   "outputs": [],
   "source": []
  }
 ],
 "metadata": {
  "kernelspec": {
   "display_name": "Python 3 (ipykernel)",
   "language": "python",
   "name": "python3"
  },
  "language_info": {
   "codemirror_mode": {
    "name": "ipython",
    "version": 3
   },
   "file_extension": ".py",
   "mimetype": "text/x-python",
   "name": "python",
   "nbconvert_exporter": "python",
   "pygments_lexer": "ipython3",
   "version": "3.9.7"
  }
 },
 "nbformat": 4,
 "nbformat_minor": 5
}
